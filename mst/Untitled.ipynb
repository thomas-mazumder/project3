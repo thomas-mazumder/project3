{
 "cells": [
  {
   "cell_type": "code",
   "execution_count": 80,
   "id": "6d3b6313",
   "metadata": {},
   "outputs": [],
   "source": [
    "import numpy as np\n",
    "import heapq\n",
    "from typing import Union\n",
    "\n",
    "class Graph:\n",
    "    def __init__(self, adjacency_mat: Union[np.ndarray, str]):\n",
    "        \"\"\" Unlike project 2, this Graph class takes an adjacency matrix as input. `adjacency_mat` \n",
    "        can either be a 2D numpy array of floats or the path to a CSV file containing a 2D numpy array of floats.\n",
    "\n",
    "        In this project, we will assume `adjacency_mat` corresponds to the adjacency matrix of an undirected graph\n",
    "        \"\"\"\n",
    "        if type(adjacency_mat) == str:\n",
    "            self.adj_mat = self._load_adjacency_matrix_from_csv(adjacency_mat)\n",
    "        elif type(adjacency_mat) == np.ndarray:\n",
    "            self.adj_mat = adjacency_mat\n",
    "        else: \n",
    "            raise TypeError('Input must be a valid path or an adjacency matrix')\n",
    "        self.mst = None\n",
    "        self.big_number = 1000\n",
    "\n",
    "    def _load_adjacency_matrix_from_csv(self, path: str) -> np.ndarray:\n",
    "        with open(path) as f:\n",
    "            return np.loadtxt(f, delimiter=',')\n",
    "\n",
    "    def construct_mst(self):\n",
    "        \"\"\" Given `self.adj_mat`, the adjacency matrix of a connected undirected graph, implement Prim's \n",
    "        algorithm to construct an adjacency matrix encoding the minimum spanning tree of `self.adj_mat`. \n",
    "            \n",
    "        `self.adj_mat` is a 2D numpy array of floats. \n",
    "        Note that because we assume our input graph is undirected, `self.adj_mat` is symmetric. \n",
    "        Row i and column j represents the edge weight between vertex i and vertex j. An edge weight of zero indicates that no edge exists. \n",
    "        \n",
    "        TODO: \n",
    "            This function does not return anything. Instead, store the adjacency matrix \n",
    "        representation of the minimum spanning tree of `self.adj_mat` in `self.mst`.\n",
    "        We highly encourage the use of priority queues in your implementation. See the heapq\n",
    "        module, particularly the `heapify`, `heappop`, and `heappush` functions.\n",
    "        \"\"\"\n",
    "\n",
    "        n_nodes = self.adj_mat.shape[0]\n",
    "        h = []\n",
    "        heapq.heappush(h, (0, (0,0))) \n",
    "        all_nodes = set(list(range(n_nodes)))\n",
    "        mst_set = set()\n",
    "        self.mst = np.zeros((n_nodes, n_nodes))\n",
    "\n",
    "        while len(mst_set) != n_nodes:\n",
    "            u = heapq.heappop(h)\n",
    "            mst_set.add(u[1][0])\n",
    "            self.mst[u[1][0],u[1][1]] = self.adj_mat[u[1][0],u[1][1]]\n",
    "            self.mst[u[1][1],u[1][0]] = self.adj_mat[u[1][1],u[1][0]]\n",
    "            h = []\n",
    "            for node in list(all_nodes.difference(mst_set)):\n",
    "                print(node)\n",
    "                distances_to_mst = self.adj_mat[node,].copy()\n",
    "                print(distances_to_mst)\n",
    "                distances_to_mst[distances_to_mst == 0] = self.big_number\n",
    "                print(distances_to_mst)\n",
    "                distances_to_mst[list(all_nodes.difference(mst_set))] = self.big_number\n",
    "                print(distances_to_mst)\n",
    "                predecessor = np.argmin(distances_to_mst)\n",
    "                heapq.heappush(h, (distances_to_mst[predecessor],(node, predecessor)))\n",
    "            print(h)\n",
    "            print(self.mst)\n",
    "            print()"
   ]
  },
  {
   "cell_type": "code",
   "execution_count": 81,
   "id": "12bda7f5",
   "metadata": {},
   "outputs": [],
   "source": [
    "arr = np.array([[0,7,4],[7,0,1],[4,1,0]])"
   ]
  },
  {
   "cell_type": "code",
   "execution_count": 82,
   "id": "67530f0c",
   "metadata": {},
   "outputs": [
    {
     "data": {
      "text/plain": [
       "array([[0, 7, 4],\n",
       "       [7, 0, 1],\n",
       "       [4, 1, 0]])"
      ]
     },
     "execution_count": 82,
     "metadata": {},
     "output_type": "execute_result"
    }
   ],
   "source": [
    "arr"
   ]
  },
  {
   "cell_type": "code",
   "execution_count": 83,
   "id": "475731c0",
   "metadata": {},
   "outputs": [],
   "source": [
    "g = Graph(arr)"
   ]
  },
  {
   "cell_type": "code",
   "execution_count": 84,
   "id": "224f1189",
   "metadata": {},
   "outputs": [
    {
     "data": {
      "text/plain": [
       "array([[0, 7, 4],\n",
       "       [7, 0, 1],\n",
       "       [4, 1, 0]])"
      ]
     },
     "execution_count": 84,
     "metadata": {},
     "output_type": "execute_result"
    }
   ],
   "source": [
    "g.adj_mat"
   ]
  },
  {
   "cell_type": "code",
   "execution_count": 85,
   "id": "3a6f178f",
   "metadata": {},
   "outputs": [
    {
     "name": "stdout",
     "output_type": "stream",
     "text": [
      "1\n",
      "[7 0 1]\n",
      "[   7 1000    1]\n",
      "[   7 1000 1000]\n",
      "2\n",
      "[4 1 0]\n",
      "[   4    1 1000]\n",
      "[   4 1000 1000]\n",
      "[(4, (2, 0)), (7, (1, 0))]\n",
      "[[0. 0. 0.]\n",
      " [0. 0. 0.]\n",
      " [0. 0. 0.]]\n",
      "\n",
      "1\n",
      "[7 0 1]\n",
      "[   7 1000    1]\n",
      "[   7 1000    1]\n",
      "[(1, (1, 2))]\n",
      "[[0. 0. 4.]\n",
      " [0. 0. 0.]\n",
      " [4. 0. 0.]]\n",
      "\n",
      "[]\n",
      "[[0. 0. 4.]\n",
      " [0. 0. 1.]\n",
      " [4. 1. 0.]]\n",
      "\n"
     ]
    }
   ],
   "source": [
    "g.construct_mst()"
   ]
  },
  {
   "cell_type": "code",
   "execution_count": 86,
   "id": "3e05eba1",
   "metadata": {},
   "outputs": [
    {
     "data": {
      "text/plain": [
       "array([[0., 0., 4.],\n",
       "       [0., 0., 1.],\n",
       "       [4., 1., 0.]])"
      ]
     },
     "execution_count": 86,
     "metadata": {},
     "output_type": "execute_result"
    }
   ],
   "source": [
    "g.mst"
   ]
  },
  {
   "cell_type": "code",
   "execution_count": null,
   "id": "b3eb6cd2",
   "metadata": {},
   "outputs": [],
   "source": []
  }
 ],
 "metadata": {
  "kernelspec": {
   "display_name": "Python 3 (ipykernel)",
   "language": "python",
   "name": "python3"
  },
  "language_info": {
   "codemirror_mode": {
    "name": "ipython",
    "version": 3
   },
   "file_extension": ".py",
   "mimetype": "text/x-python",
   "name": "python",
   "nbconvert_exporter": "python",
   "pygments_lexer": "ipython3",
   "version": "3.8.12"
  }
 },
 "nbformat": 4,
 "nbformat_minor": 5
}
